{
 "cells": [
  {
   "cell_type": "code",
   "execution_count": 1,
   "metadata": {},
   "outputs": [],
   "source": [
    "from ultralytics import YOLO\n",
    "import os"
   ]
  },
  {
   "cell_type": "code",
   "execution_count": 2,
   "metadata": {},
   "outputs": [],
   "source": [
    "model_paths = [\n",
    "    \"Collet/Model/best (1).pt\",\n",
    "    \"Collet/Model/best.pt\",\n",
    "    \"Collet/Model/last.pt\"\n",
    "]\n",
    "\n",
    "# Paths to the images you want to predict\n",
    "image_paths = [\"Lab1/ex01/ld1lDGtifuOjZrQBqZ4L.webp\"]\n"
   ]
  },
  {
   "cell_type": "code",
   "execution_count": 3,
   "metadata": {},
   "outputs": [
    {
     "ename": "FileNotFoundError",
     "evalue": "The model file Collet/Model/best (1).pt does not exist",
     "output_type": "error",
     "traceback": [
      "\u001b[1;31m---------------------------------------------------------------------------\u001b[0m",
      "\u001b[1;31mFileNotFoundError\u001b[0m                         Traceback (most recent call last)",
      "Cell \u001b[1;32mIn[3], line 3\u001b[0m\n\u001b[0;32m      1\u001b[0m \u001b[38;5;28;01mfor\u001b[39;00m model_path \u001b[38;5;129;01min\u001b[39;00m model_paths:\n\u001b[0;32m      2\u001b[0m     \u001b[38;5;28;01mif\u001b[39;00m \u001b[38;5;129;01mnot\u001b[39;00m os\u001b[38;5;241m.\u001b[39mpath\u001b[38;5;241m.\u001b[39mexists(model_path):\n\u001b[1;32m----> 3\u001b[0m         \u001b[38;5;28;01mraise\u001b[39;00m \u001b[38;5;167;01mFileNotFoundError\u001b[39;00m(\u001b[38;5;124mf\u001b[39m\u001b[38;5;124m\"\u001b[39m\u001b[38;5;124mThe model file \u001b[39m\u001b[38;5;132;01m{\u001b[39;00mmodel_path\u001b[38;5;132;01m}\u001b[39;00m\u001b[38;5;124m does not exist\u001b[39m\u001b[38;5;124m\"\u001b[39m)\n\u001b[0;32m      5\u001b[0m \u001b[38;5;66;03m# Check if all image paths exist\u001b[39;00m\n\u001b[0;32m      6\u001b[0m \u001b[38;5;28;01mfor\u001b[39;00m image_path \u001b[38;5;129;01min\u001b[39;00m image_paths:\n",
      "\u001b[1;31mFileNotFoundError\u001b[0m: The model file Collet/Model/best (1).pt does not exist"
     ]
    }
   ],
   "source": [
    "for model_path in model_paths:\n",
    "    if not os.path.exists(model_path):\n",
    "        raise FileNotFoundError(f\"The model file {model_path} does not exist\")\n",
    "\n",
    "# Check if all image paths exist\n",
    "for image_path in image_paths:\n",
    "    if not os.path.exists(image_path):\n",
    "        raise FileNotFoundError(f\"The image file {image_path} does not exist\")"
   ]
  },
  {
   "cell_type": "code",
   "execution_count": null,
   "metadata": {},
   "outputs": [],
   "source": [
    "models = [(YOLO(model_path), model_path) for model_path in model_paths]"
   ]
  },
  {
   "cell_type": "code",
   "execution_count": null,
   "metadata": {},
   "outputs": [
    {
     "name": "stdout",
     "output_type": "stream",
     "text": [
      "Model summary: 225 layers, 3011823 parameters, 0 gradients, 8.2 GFLOPs\n",
      "\n",
      "image 1/1 c:\\Users\\USER\\Desktop\\CodeCit\\Lab1\\ex01\\ld1lDGtifuOjZrQBqZ4L.webp: 384x640 1 0: motorcycle, 3 1: cars, 114.9ms\n",
      "Speed: 3.0ms preprocess, 114.9ms inference, 1.0ms postprocess per image at shape (1, 3, 384, 640)\n",
      "Model summary: 225 layers, 3011823 parameters, 0 gradients, 8.2 GFLOPs\n",
      "\n",
      "image 1/1 c:\\Users\\USER\\Desktop\\CodeCit\\Lab1\\ex01\\ld1lDGtifuOjZrQBqZ4L.webp: 384x640 3 0: motorcycles, 3 1: cars, 1 4: bus, 104.0ms\n",
      "Speed: 3.0ms preprocess, 104.0ms inference, 0.0ms postprocess per image at shape (1, 3, 384, 640)\n",
      "Model summary: 295 layers, 25863268 parameters, 0 gradients, 79.1 GFLOPs\n",
      "\n",
      "image 1/1 c:\\Users\\USER\\Desktop\\CodeCit\\Lab1\\ex01\\ld1lDGtifuOjZrQBqZ4L.webp: 384x640 6 2: motorcycles, 3 3: cars, 1 4: taxi, 624.1ms\n",
      "Speed: 3.0ms preprocess, 624.1ms inference, 1.0ms postprocess per image at shape (1, 3, 384, 640)\n"
     ]
    }
   ],
   "source": [
    "for model, model_path in models:\n",
    "    model.info()\n",
    "    for image_path in image_paths:\n",
    "        results = model.predict(source=image_path)\n",
    "        for result in results:\n",
    "            result.show()  # Display results\n",
    "            output_dir = os.path.join(\"Output\", os.path.splitext(os.path.basename(model_path))[0])\n",
    "            os.makedirs(output_dir, exist_ok=True)\n",
    "            result.save(output_dir)  # Save results to the corresponding folder"
   ]
  }
 ],
 "metadata": {
  "kernelspec": {
   "display_name": "Python 3",
   "language": "python",
   "name": "python3"
  },
  "language_info": {
   "codemirror_mode": {
    "name": "ipython",
    "version": 3
   },
   "file_extension": ".py",
   "mimetype": "text/x-python",
   "name": "python",
   "nbconvert_exporter": "python",
   "pygments_lexer": "ipython3",
   "version": "3.11.9"
  }
 },
 "nbformat": 4,
 "nbformat_minor": 2
}
