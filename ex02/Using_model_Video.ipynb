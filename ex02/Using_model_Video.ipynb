{
 "cells": [
  {
   "cell_type": "code",
   "execution_count": 1,
   "metadata": {},
   "outputs": [],
   "source": [
    "from ultralytics import YOLO\n",
    "import cv2\n",
    "import os"
   ]
  },
  {
   "cell_type": "code",
   "execution_count": 2,
   "metadata": {},
   "outputs": [
    {
     "name": "stdout",
     "output_type": "stream",
     "text": [
      "c:\\Users\\USER\\Desktop\\CodeCit\\Lab1 Detection\\ex02\n"
     ]
    }
   ],
   "source": [
    "import os\n",
    "print(os.getcwd())"
   ]
  },
  {
   "cell_type": "code",
   "execution_count": 3,
   "metadata": {},
   "outputs": [],
   "source": [
    "model = YOLO(\"last.pt\")\n",
    "video_paths = \"test_video.mp4\"\n",
    "cap =cv2.VideoCapture(video_paths)\n",
    "if not cap.isOpened():\n",
    "    print(\"Error\")"
   ]
  },
  {
   "cell_type": "code",
   "execution_count": 11,
   "metadata": {},
   "outputs": [],
   "source": [
    "if not cap.isOpened():\n",
    "    print(\"Error\")\n",
    "frame_Width = int(cap.get(cv2.CAP_PROP_FRAME_WIDTH))\n",
    "frame_High = int(cap.get(cv2.CAP_PROP_FRAME_HEIGHT))\n",
    "out = cv2.VideoWriter('Output.mp4', cv2.VideoWriter_fourcc(*'mp4v'), 24, (frame_Width, frame_High))"
   ]
  },
  {
   "cell_type": "code",
   "execution_count": 12,
   "metadata": {},
   "outputs": [
    {
     "name": "stdout",
     "output_type": "stream",
     "text": [
      "\n",
      "0: 640x384 1 2: motorcycle, 1 3: car, 1386.9ms\n",
      "Speed: 2.0ms preprocess, 1386.9ms inference, 1.0ms postprocess per image at shape (1, 3, 640, 384)\n",
      "\n",
      "0: 640x384 1 2: motorcycle, 1 3: car, 1030.5ms\n",
      "Speed: 4.4ms preprocess, 1030.5ms inference, 1.0ms postprocess per image at shape (1, 3, 640, 384)\n",
      "\n",
      "0: 640x384 1 3: car, 972.5ms\n",
      "Speed: 3.0ms preprocess, 972.5ms inference, 1.0ms postprocess per image at shape (1, 3, 640, 384)\n",
      "\n",
      "0: 640x384 1 2: motorcycle, 1 3: car, 1046.2ms\n",
      "Speed: 2.1ms preprocess, 1046.2ms inference, 2.0ms postprocess per image at shape (1, 3, 640, 384)\n",
      "\n",
      "0: 640x384 1 2: motorcycle, 1 3: car, 969.2ms\n",
      "Speed: 3.0ms preprocess, 969.2ms inference, 2.0ms postprocess per image at shape (1, 3, 640, 384)\n",
      "\n",
      "0: 640x384 1 2: motorcycle, 1 3: car, 983.5ms\n",
      "Speed: 2.0ms preprocess, 983.5ms inference, 1.0ms postprocess per image at shape (1, 3, 640, 384)\n"
     ]
    }
   ],
   "source": [
    "while cap.isOpened():\n",
    "    # จับเฟรมทีละเฟรม\n",
    "    ret, frame = cap.read()\n",
    "    if ret:\n",
    "        # แปลงเฟรมจาก BGR เป็น RGB (ต้องการโดย YOLO)\n",
    "        frame_rgb = cv2.cvtColor(frame, cv2.COLOR_BGR2RGB)\n",
    "\n",
    "        # ทำการตรวจจับวัตถุ\n",
    "        results = model.predict(frame_rgb)\n",
    "\n",
    "        # ตรวจสอบว่ามีผลลัพธ์ใดๆ อยู่หรือไม่\n",
    "        if results: \n",
    "            # เข้าถึงผลลัพธ์แรกในลิสต์ (สมมติว่ามีผลลัพธ์เดียว)\n",
    "            result = results[0] \n",
    "\n",
    "            # ตรวจสอบว่ามีกล่องตัวกรองใดๆ อยู่หรือไม่\n",
    "            if result.boxes.xyxy is not None and len(result.boxes.xyxy) > 0:\n",
    "                # วนลูปผลลัพธ์สำหรับเฟรมปัจจุบัน\n",
    "                for box in result.boxes.xyxy:\n",
    "                    x1, y1, x2, y2 = box[0], box[1], box[2], box[3]\n",
    "                    cv2.rectangle(frame, (int(x1), int(y1)), (int(x2), int(y2)), (0, 255, 0), 2)\n",
    "\n",
    "        # เขียนเฟรมลงในไฟล์วิดีโอผลลัพธ์\n",
    "        out.write(frame)\n",
    "\n",
    "        # Display the resulting frame\n",
    "        cv2.imshow('Frame', frame)\n",
    "\n",
    "        # Press Q on keyboard to exit\n",
    "        if cv2.waitKey(1) & 0xFF == ord('q'):\n",
    "            break\n",
    "    else:\n",
    "        break\n",
    "\n",
    "# Release everything if job is finished\n",
    "cap.release()\n",
    "out.release()\n",
    "cv2.destroyAllWindows()"
   ]
  }
 ],
 "metadata": {
  "kernelspec": {
   "display_name": "CudaNPyTorch",
   "language": "python",
   "name": "python3"
  },
  "language_info": {
   "codemirror_mode": {
    "name": "ipython",
    "version": 3
   },
   "file_extension": ".py",
   "mimetype": "text/x-python",
   "name": "python",
   "nbconvert_exporter": "python",
   "pygments_lexer": "ipython3",
   "version": "3.12.5"
  }
 },
 "nbformat": 4,
 "nbformat_minor": 2
}
