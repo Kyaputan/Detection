{
 "cells": [
  {
   "cell_type": "code",
   "execution_count": 1,
   "metadata": {},
   "outputs": [],
   "source": [
    "import cv2\n",
    "import numpy as np"
   ]
  },
  {
   "cell_type": "code",
   "execution_count": 2,
   "metadata": {},
   "outputs": [],
   "source": [
    "roi_width = 150\n",
    "roi_height = 150\n",
    "\n",
    "# เปิดกล้อง\n",
    "cap = cv2.VideoCapture(0)\n",
    "\n",
    "# ตั้งค่าความละเอียดของกล้อง\n",
    "cap.set(cv2.CAP_PROP_FRAME_WIDTH, 640)\n",
    "cap.set(cv2.CAP_PROP_FRAME_HEIGHT, 480)\n",
    "\n",
    "font = cv2.FONT_HERSHEY_SIMPLEX  # กำหนดฟอนต์"
   ]
  },
  {
   "cell_type": "code",
   "execution_count": 3,
   "metadata": {},
   "outputs": [],
   "source": [
    "# ฟังก์ชันสำหรับคำนวณค่าเฉลี่ยสี RGB ในบริเวณ ROI\n",
    "def calculate_average_rgb(roi):\n",
    " \"\"\"\n",
    " ฟังก์ชันนี้รับภาพ ROI และส่งคืนค่าเฉลี่ยสี RGB\n",
    "\n",
    " Args:\n",
    " roi: รูปภาพ ROI\n",
    "\n",
    " Returns:\n",
    " tuple: ค่าเฉลี่ยสี RGB (B, G, R)\n",
    " \"\"\"\n",
    " # แปลงภาพเป็นระบบสี BGR\n",
    " bgr_mean = cv2.mean(roi)\n",
    "\n",
    " # แยกค่าสี BGR ออกมา\n",
    " blue, green, red = bgr_mean[0], bgr_mean[1], bgr_mean[2]\n",
    "\n",
    " # ส่งคืนค่าเฉลี่ยสี RGB\n",
    " return blue, green, red"
   ]
  },
  {
   "cell_type": "code",
   "execution_count": 4,
   "metadata": {},
   "outputs": [],
   "source": [
    "while True:\n",
    " # อ่านเฟรมจากกล้อง\n",
    " ret, frame = cap.read()\n",
    "\n",
    " # ตรวจสอบว่ามีเฟรมหรือไม่\n",
    " if not ret:\n",
    "    break\n",
    "\n",
    " # แปลงภาพเป็นระบบสี BGR\n",
    " bgr_frame = cv2.cvtColor(frame, cv2.COLOR_BGR2HSV)\n",
    "\n",
    " # กำหนดตำแหน่ง ROI\n",
    " x = frame.shape[1] // 2 - roi_width // 2\n",
    " y = frame.shape[0] // 2 - roi_height // 2\n",
    "\n",
    " # สร้าง ROI\n",
    " roi = bgr_frame[y:y + roi_height, x:x + roi_width]\n",
    "\n",
    " # คำนวณค่าเฉลี่ยสี RGB\n",
    " blue, green, red = calculate_average_rgb(roi)\n",
    "\n",
    " # แสดงค่าสี RGB บนหน้าจอ\n",
    " cv2.putText(frame, f\"R: {green:.4f} %\", (10, 30), font, 0.7, (0, 0, 255), 2)\n",
    " cv2.putText(frame, f\"G: {blue:.4f} %\", (10, 90), font, 0.7, (0, 255, 0), 2)\n",
    " cv2.putText(frame, f\"B: {red:.4f} %\", (10, 60), font, 0.7, (255, 0, 0), 2)\n",
    "\n",
    "\n",
    " if blue >= 150 and blue > green and blue >red:\n",
    "  color_name = \"green\"\n",
    " elif green >= 150 and green > blue and green >red:\n",
    "  color_name = \"red\"\n",
    " elif red >= 150 and red > blue and red >green:\n",
    "  color_name = \"blue\"\n",
    " else:\n",
    "  color_name = \"None\"\n",
    " # วาดกรอบสีเทาบางๆ บน ROI\n",
    " cv2.rectangle(frame, (x, y), (x + roi_width, y + roi_height), (128, 128, 128), 2)\n",
    "\n",
    " # แสดงชื่อสีที่มีค่าสูงสุดบนมุมขวา\n",
    " cv2.putText(frame, f\"{color_name}\", (frame.shape[1] - 150, frame.shape[0] - 30), font, 0.7, (red, blue, green), 2)\n",
    "\n",
    " # แสดงผลลัพธ์\n",
    " cv2.imshow('Camera', frame)\n",
    " # รอปุ่ม ESC เพื่อออกจากโปรแกรม\n",
    " if cv2.waitKey(1) & 0xFF == ord('q'):\n",
    "  break\n",
    "\n",
    "# ปิดกล้อง\n",
    "cap.release()\n",
    "\n",
    "# ปิดหน้าต่างผลลัพธ์\n",
    "cv2.destroyAllWindows()\n"
   ]
  }
 ],
 "metadata": {
  "kernelspec": {
   "display_name": "Python 3",
   "language": "python",
   "name": "python3"
  },
  "language_info": {
   "codemirror_mode": {
    "name": "ipython",
    "version": 3
   },
   "file_extension": ".py",
   "mimetype": "text/x-python",
   "name": "python",
   "nbconvert_exporter": "python",
   "pygments_lexer": "ipython3",
   "version": "3.11.9"
  }
 },
 "nbformat": 4,
 "nbformat_minor": 2
}
