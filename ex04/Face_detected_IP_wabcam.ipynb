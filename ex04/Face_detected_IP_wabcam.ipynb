{
 "cells": [
  {
   "cell_type": "code",
   "execution_count": 3,
   "metadata": {},
   "outputs": [],
   "source": [
    "import cv2\n",
    "from ultralytics import YOLO"
   ]
  },
  {
   "cell_type": "code",
   "execution_count": 17,
   "metadata": {},
   "outputs": [],
   "source": [
    "face_classifier = cv2.CascadeClassifier(\n",
    "    cv2.data.haarcascades + \"haarcascade_frontalface_default.xml\"\n",
    ")\n",
    "def detect_bounding_box(vid):\n",
    "    gray_image = cv2.cvtColor(vid, cv2.COLOR_BGR2GRAY)\n",
    "    faces = face_classifier.detectMultiScale(gray_image, 1.1, 5, minSize=(40, 40))\n",
    "    for (x, y, w, h) in faces:\n",
    "        cv2.rectangle(vid, (x, y), (x + w, y + h), (0, 255, 0), 4)\n",
    "    return faces"
   ]
  },
  {
   "cell_type": "code",
   "execution_count": 18,
   "metadata": {},
   "outputs": [
    {
     "name": "stdout",
     "output_type": "stream",
     "text": [
      "Test NO.0.1\n",
      "Test NO.0.2\n",
      "Test NO.0.3\n",
      "Test NO.0.4\n"
     ]
    }
   ],
   "source": [
    "print(\"Test NO.0.1\")\n",
    "IP_camera = ['http://172.16.12.106:8080/video']\n",
    "print(\"Test NO.0.2\")\n",
    "webcam_indexes = [0]\n",
    "print(\"Test NO.0.3\")\n",
    "video_capture = []\n",
    "print(\"Test NO.0.4\")"
   ]
  },
  {
   "cell_type": "code",
   "execution_count": 19,
   "metadata": {},
   "outputs": [
    {
     "name": "stdout",
     "output_type": "stream",
     "text": [
      "Test NO.1\n",
      "Failed to connect to IP camera at http://172.16.12.106:8080/video\n",
      "Test NO.3\n",
      "Test NO.4\n",
      "Test NO.6\n"
     ]
    }
   ],
   "source": [
    "# Check connection to IP cameras\n",
    "for url in IP_camera:\n",
    "    cap = cv2.VideoCapture(url)\n",
    "    print(\"Test NO.1\")\n",
    "    if cap.isOpened():\n",
    "        video_capture.append(cap)\n",
    "        print(\"Test NO.2\")\n",
    "    else:\n",
    "        print(f\"Failed to connect to IP camera at {url}\")\n",
    "        print(\"Test NO.3\")\n",
    "\n",
    "# Open connections to the webcams\n",
    "webcam_caps = [cv2.VideoCapture(index) for index in webcam_indexes]\n",
    "\n",
    "# Add the webcam captures to the video capture list\n",
    "video_capture += webcam_caps\n",
    "print(\"Test NO.4\")\n",
    "\n",
    "while True:\n",
    "    for i, cap in enumerate(video_capture):\n",
    "        result, video_frame = cap.read()  # read frames from the video\n",
    "        if result:\n",
    "            faces = detect_bounding_box(video_frame)  # apply the function we created to the video frame\n",
    "            window_name = f\"My Face Detection Project {i+1}\"\n",
    "            cv2.imshow(window_name, video_frame)  # display the processed frame in a window named \"My Face Detection Project\"\n",
    "        else:\n",
    "            print(f\"Failed to grab frame from source {i+1}\")\n",
    "            print(\"Test NO.5\")\n",
    "\n",
    "    if cv2.waitKey(1) & 0xFF == ord(\"q\"):\n",
    "        break\n",
    "\n",
    "# Release all captures and close windows\n",
    "for cap in video_capture:\n",
    "    cap.release()\n",
    "cv2.destroyAllWindows()\n",
    "print(\"Test NO.6\")"
   ]
  }
 ],
 "metadata": {
  "kernelspec": {
   "display_name": "Python 3",
   "language": "python",
   "name": "python3"
  },
  "language_info": {
   "codemirror_mode": {
    "name": "ipython",
    "version": 3
   },
   "file_extension": ".py",
   "mimetype": "text/x-python",
   "name": "python",
   "nbconvert_exporter": "python",
   "pygments_lexer": "ipython3",
   "version": "3.11.9"
  }
 },
 "nbformat": 4,
 "nbformat_minor": 2
}
